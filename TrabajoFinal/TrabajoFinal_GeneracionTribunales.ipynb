{
 "cells": [
  {
   "cell_type": "markdown",
   "metadata": {
    "id": "hVbXYX-RfPWh"
   },
   "source": [
    "# Algoritmos de optimización - Trabajo Práctico<br>\n",
    "Nombre y Apellidos: Pedro Javier Sánchez San José  <br>\n",
    "Url: https://github.com/Psancs05/03MIAR---Algoritmos-de-Optimizacion---2023<br>\n",
    "Google Colab: https://colab.research.google.com/drive/1qqv4h-GytI2MZ0Uhm9acVBUdZt_6OOcQ <br>\n",
    "Problema:\n",
    "3. Configuración de Tribunales\n",
    "\n",
    "Descripción del problema: <br>\n",
    "Se precisa configurar tribunales de evaluación para un grupo de 15 alumnos que desean presentar su Trabajo Fin de Máster (TFM).\n",
    "Cada tribunal está compuesto por tres profesores, cada uno desempeñando uno de los siguientes roles: Presidente, Secretario o Vocal.\n",
    "Se dispone de las disponibilidades de los profesores y los roles que pueden ejercer.\n",
    "\n",
    "\n",
    "\n",
    "\n",
    "\n",
    "\n",
    "\n",
    "\n",
    "                                        "
   ]
  },
  {
   "cell_type": "markdown",
   "metadata": {
    "id": "Sbo9IqQtpaHZ"
   },
   "source": [
    "#Modelo\n",
    "- ¿Como represento el espacio de soluciones?\n",
    "- ¿Cual es la función objetivo?\n",
    "- ¿Como implemento las restricciones?"
   ]
  },
  {
   "cell_type": "markdown",
   "metadata": {
    "id": "67p_vszBposu"
   },
   "source": [
    "Para la representación del problema se ha comenzado creando un array con las disponibilidades de los profesores y con los roles que pueden ejercer."
   ]
  },
  {
   "cell_type": "code",
   "execution_count": null,
   "metadata": {
    "id": "y6salwIjmncV"
   },
   "outputs": [],
   "source": [
    "import numpy as np\n",
    "import random"
   ]
  },
  {
   "cell_type": "code",
   "execution_count": null,
   "metadata": {
    "colab": {
     "base_uri": "https://localhost:8080/"
    },
    "id": "AiskKkzZfy4e",
    "outputId": "6ee8995f-dbd6-4139-9391-394e6e7dbf36"
   },
   "outputs": [
    {
     "name": "stdout",
     "output_type": "stream",
     "text": [
      "(10, 35)\n",
      "(10, 3)\n"
     ]
    }
   ],
   "source": [
    "#Respuesta\n",
    "disponibilidad_excel = [\n",
    "    [0,1,1,1,0,1,1,1,0,1,1,1,1,1,1,1,0,0,1,0,1,0,1,1,1,1,1,1,1,1,1,1,1,0,0],\n",
    "    [1,1,1,1,0,0,0,0,1,1,1,1,0,0,1,0,0,1,1,1,0,1,1,1,1,1,1,1,1,1,1,1,1,1,1],\n",
    "    [0,0,1,1,0,1,1,1,1,1,0,0,1,1,1,1,1,1,1,1,1,1,0,1,1,1,0,1,0,1,1,0,1,0,1],\n",
    "    [1,0,1,0,1,1,0,1,0,0,1,1,1,1,0,0,1,1,1,1,1,1,0,1,1,0,1,1,1,1,1,1,1,1,0],\n",
    "    [1,1,0,1,0,1,1,1,1,1,0,1,1,1,1,0,1,1,0,1,1,0,1,1,1,0,1,1,1,0,1,1,1,1,0],\n",
    "    [1,1,1,1,1,0,0,1,1,1,1,1,1,1,1,1,0,0,1,1,1,1,1,1,0,0,1,1,1,1,1,0,1,0,1],\n",
    "    [0,1,1,1,1,1,1,1,1,0,1,1,0,1,0,0,1,1,0,0,1,1,0,0,0,0,1,1,1,1,1,1,1,0,1],\n",
    "    [1,1,1,1,1,0,0,1,1,0,1,1,1,0,1,1,1,0,0,1,1,0,1,1,1,1,1,1,0,1,1,1,0,1,0],\n",
    "    [1,0,1,1,0,1,0,0,1,1,1,1,1,1,1,1,0,0,0,1,1,1,1,1,1,1,1,0,1,0,1,1,1,1,1],\n",
    "    [1,1,0,1,1,0,1,1,0,0,0,0,0,1,1,1,0,0,1,1,1,1,0,0,1,1,1,1,1,1,1,0,0,0,1],\n",
    "]\n",
    "disponibilidad = np.array(disponibilidad_excel)\n",
    "print(disponibilidad.shape)\n",
    "\n",
    "# Presidente | Secretario | Vocal\n",
    "roles_excel = [\n",
    "    [1, 1, 1],\n",
    "    [1, 1, 1],\n",
    "    [1, 0, 1],\n",
    "    [0, 1, 1],\n",
    "    [1, 1, 1],\n",
    "    [1, 1, 1],\n",
    "    [0, 1, 1],\n",
    "    [0, 1, 1],\n",
    "    [1, 1, 1],\n",
    "    [1, 1, 1],\n",
    "]\n",
    "roles = np.array(roles_excel)\n",
    "print(roles.shape)"
   ]
  },
  {
   "cell_type": "code",
   "execution_count": null,
   "metadata": {
    "id": "odVx_EbjBy_D"
   },
   "outputs": [],
   "source": [
    "numero_tribunales = 15"
   ]
  },
  {
   "cell_type": "markdown",
   "metadata": {
    "id": "zPy7OPwtmwIb"
   },
   "source": [
    "En este caso `disponibilidades` es un matriz de 10x35 en la que cada fila es la disponibilidad de un profesor y cada columna un slot de tiempo. Los valores a 1 representan horas en las que el profesor está disponible y los 0 en las que no. <br>\n",
    "La matriz `roles` es una matriz 10x3 en la que cada fila representa a un profesor y cada columna si dispone del rol específico o no. En este caso la primera columna sería el rol de Presidente, la seguna Secretario, y la tercera Vocal."
   ]
  },
  {
   "cell_type": "markdown",
   "metadata": {
    "id": "FaboPEZwm92d"
   },
   "source": [
    "El objetivo del problema es minimizar una función de coste que representa la puntuación que se le da a una asiganción de tribunales. Los tribunales que no cumplan con las restricciones, van a recibir una puntuación negativa. Los tribunales que sí cumplan con las restricciones, van a recibir puntuaciones más altas y se va a premiar aquellas configuraciones en las que la distribución de horarios entre los profesores sea uniforme, es decir, que todos los profesores tengan más o menos el mismo número de tribunales."
   ]
  },
  {
   "cell_type": "markdown",
   "metadata": {
    "id": "ixEJUwH_pv7M"
   },
   "source": [
    "#Diseño\n",
    "- ¿Que técnica utilizo? ¿Por qué?"
   ]
  },
  {
   "cell_type": "markdown",
   "metadata": {
    "id": "m_mt01Zon03O"
   },
   "source": [
    "Para la resolución de este problema se ha utilizado un algoritmo genético. La idea detrás de esta aplicación es generar un conjunto de soluciones iniciales, e ir iterando sobre ellas con los procedimientos típicos de estos algoritmos (selección, cruce y mutación) hasta conseguir que las soluciones mejoren. <br> Los algoritmos genéticos son métodos heurísticos, por lo que no podemos asegurar que la solución que nos proporcionen sea la óptima. <br>\n",
    "También es importante destacar que estos algoritmo son no deterministas y proporcionarán diferentes soluciones para los mismos datos de entrada debido a que incorporan mecanismos aleatorios. <br>\n",
    "He decidio utilizar este tipo de algoritmos para llevar a la práctica toda la teoría recibida en clase sobre estos algoritmos y porque este problema puede resolverse mediante este tipo de algoritmos."
   ]
  },
  {
   "cell_type": "markdown",
   "metadata": {
    "id": "QXcUdlzEo7RX"
   },
   "source": [
    "Para la implementación de este algoritmo en concreto se han seguido los siguientes pasos:\n",
    "\n",
    "\n",
    "*   Se genera una población aleatoria. Cada individuo de la población es una matriz de 10x35 generada con valores seleccionados aleatoria, que tiene valores 0, 1, 2 y 3. Los 0s indican que el profesor no forma parte de ese tribunal; los 1s que forma parte como Presidente; los 2s que forma parte como Secretario; y los 3s que forma parte como Vocal.\n",
    "*   Se define una función de fitness que comprueba primero las restricciones de disponibilidad, roles y número de tribunales. Si alguna no se cumple, se añade una penalización para ese individuo. Si cumple las restricciones, se devuelve la varianza negativa sobre el número de tribunales que ejerce cada profesor. Esto significa que los valores más cercanos a 0 representan las mejores soluciones al problema. Cuanto más negativo sea el fitness de un individuo, peor será esa solución.\n",
    "*   Se define el mecanismo de seleccion. En este caso, he elegido el mecanismo de ruleta.\n",
    "*   Se define un mecanismo de cruce. Se genera aleatoriamente un punto de corte en una columna (una hora de tribunal) y se recombinan los padres teniendo en cuenta las restricciones para generar 2 hijos nuevos.\n",
    "*   Se define un mecanismo de mutación. En este caso se define un ratio de mutación y se comprueba para cada gen de la población. Si un gen muta, su valor cambia de forma aleatoria entre todos los posibles roles disponibles.\n",
    "*   También se ha incorporado un mecanismo de elitismo, que permite preservar los mejores individuos de cada población a la siguiente iteración. De esta forma nos aseguramos que los mejores individuos sobreviven al paso de las iteraciones.\n",
    "*   Por último, se itera con todo el algoritmo durante un número determinado de generaciones. Al final del proceso, se muestra el mejor individuo generado y su valor de fitness.\n",
    "\n",
    "\n"
   ]
  },
  {
   "cell_type": "markdown",
   "metadata": {
    "id": "pF5aSR4b80sh"
   },
   "source": [
    "El primer paso es la representación del problema. En este caso, he considerado que cada indiviudo de la población sea una matriz de 10x35, muy similar a la matriz de disponibilidad, en la que cada fila representa un profesor y cada columna una hora. En este caso los valores posibles serán: 0 si el profesor no participa en el tribunal, 1 si participa como Presidente, 2 si participa como Secretario y 3 si participa como Vocal.<br>\n",
    "Inicialmente, se va a generar una población inicial de forma aleatoria respetando las restricciones que impone el problema."
   ]
  },
  {
   "cell_type": "code",
   "execution_count": null,
   "metadata": {
    "id": "CZ-5BmpspttV"
   },
   "outputs": [],
   "source": [
    "def generar_poblacion(tamanio, disponibilidad, roles, num_tribunales):\n",
    "  poblacion = []\n",
    "\n",
    "  for i in range(tamanio):\n",
    "    num_profesores, num_horas = disponibilidad.shape\n",
    "    individuo = np.zeros((num_profesores, num_horas), dtype=int)  # Creamos el individuo con todo a 0\n",
    "\n",
    "    tribunales_formados = 0\n",
    "\n",
    "    # Iteramos formando los tribunales\n",
    "    while tribunales_formados < num_tribunales:\n",
    "      horas_disponibles = [hora for hora in range(num_horas) if np.sum(individuo[:, hora] > 0) < 3]\n",
    "      if not horas_disponibles:\n",
    "        break  # No hay más horas disponibles para formar tribunales\n",
    "      hora = np.random.choice(horas_disponibles)\n",
    "\n",
    "      # Intentamos formar un tribunal con esa hora\n",
    "      roles_asignados = 0\n",
    "      for rol in range(1, 4):  # 1 presidente, 2 secretario, 3 vocal\n",
    "        profesores_disponibles = np.where((disponibilidad[:, hora] == 1) & (roles[:, rol-1] == 1))[0]\n",
    "        profesores_disponibles = [prof for prof in profesores_disponibles if individuo[prof, hora] == 0]  # Quitamos los profesores que ya tienen rol a esa hora\n",
    "\n",
    "        if profesores_disponibles:\n",
    "          # Asignamos un profesor aleatorio de los disponibles\n",
    "          profesor_elegido = np.random.choice(profesores_disponibles)\n",
    "          individuo[profesor_elegido, hora] = rol\n",
    "          roles_asignados += 1\n",
    "\n",
    "      # Verificamos si se ha formado un tribunal completo a esa hora\n",
    "      if roles_asignados == 3:\n",
    "        tribunales_formados += 1\n",
    "\n",
    "    poblacion.append(individuo)\n",
    "\n",
    "  return poblacion"
   ]
  },
  {
   "cell_type": "markdown",
   "metadata": {
    "id": "kIo7Ce0-vX5v"
   },
   "source": [
    "Ejemplo de población"
   ]
  },
  {
   "cell_type": "code",
   "execution_count": null,
   "metadata": {
    "id": "-rjR4m25_F4f"
   },
   "outputs": [],
   "source": [
    "poblacion_inicial = generar_poblacion(10, disponibilidad, roles, numero_tribunales)"
   ]
  },
  {
   "cell_type": "code",
   "execution_count": null,
   "metadata": {
    "colab": {
     "base_uri": "https://localhost:8080/"
    },
    "id": "ct19WQqQ_JF6",
    "outputId": "684f6bd1-52db-462f-ddb7-9b115fab8658"
   },
   "outputs": [
    {
     "name": "stdout",
     "output_type": "stream",
     "text": [
      "[[0 0 1 0 0 0 2 0 0 0 0 0 0 0 0 0 0 0 0 0 0 0 1 0 0 0 2 0 0 0 2 1 0 0 0]\n",
      " [0 2 0 0 0 0 0 0 0 0 0 0 0 0 0 0 0 3 0 0 0 1 0 0 0 0 0 0 1 0 3 0 0 0 0]\n",
      " [0 0 0 0 0 0 0 0 0 0 0 0 1 0 0 1 0 1 0 0 0 3 0 0 0 0 0 0 0 0 0 0 0 0 0]\n",
      " [3 0 0 0 0 0 0 0 0 0 0 0 0 0 0 0 0 0 0 0 0 2 0 0 0 0 0 0 3 0 0 0 0 0 0]\n",
      " [0 0 0 0 0 0 0 0 0 0 0 0 0 0 0 0 0 2 0 0 0 0 3 0 0 0 0 0 2 0 0 2 1 0 0]\n",
      " [2 1 2 0 0 0 0 0 0 0 0 0 0 0 0 0 0 0 0 0 0 0 0 0 0 0 0 0 0 0 1 0 3 0 2]\n",
      " [0 3 0 0 0 0 3 0 0 0 0 0 0 0 0 0 0 0 0 0 0 0 0 0 0 0 3 0 0 0 0 3 0 0 3]\n",
      " [0 0 3 0 0 0 0 0 0 0 0 0 3 0 0 3 0 0 0 0 0 0 2 0 0 0 0 0 0 0 0 0 0 0 0]\n",
      " [1 0 0 0 0 0 0 0 0 0 0 0 2 0 0 0 0 0 0 0 0 0 0 0 0 0 1 0 0 0 0 0 2 0 1]\n",
      " [0 0 0 0 0 0 1 0 0 0 0 0 0 0 0 2 0 0 0 0 0 0 0 0 0 0 0 0 0 0 0 0 0 0 0]]\n",
      "(10, 35)\n",
      "10\n"
     ]
    }
   ],
   "source": [
    "print(poblacion_inicial[0])\n",
    "print(poblacion_inicial[0].shape)\n",
    "print(len(poblacion_inicial))"
   ]
  },
  {
   "cell_type": "markdown",
   "metadata": {
    "id": "ChTEzqP2_ek9"
   },
   "source": [
    "A continuación vamos a definir la función de fitness. En este caso, la función va a devolver la varianza negativa de la distribución de tribunales entre los profesores. De esta forma, cuanto más repartidos estén los profesores, más alta será la puntuación de fitness de un individuo. <br>\n",
    "Además, se va a implementar también un sistema de penalizaciones: si un individuo incumple alguna de las restricciones del problema, se añadirá una penalización al fitness de ese individuo concreto."
   ]
  },
  {
   "cell_type": "code",
   "execution_count": null,
   "metadata": {
    "id": "nqEPVzBW_7um"
   },
   "outputs": [],
   "source": [
    "def fitness(individuo, disponibilidad, roles, numero_tribunales):\n",
    "    penalizacion = 100\n",
    "    penalizacion_total = 0\n",
    "\n",
    "    # Verificar restricciones y contar restricciones\n",
    "    for profesor in range(individuo.shape[0]):\n",
    "        for hora in range(individuo.shape[1]):\n",
    "            if individuo[profesor, hora] > 0:\n",
    "                # Penalizar si el profesor no está disponible en esa hora\n",
    "                if disponibilidad[profesor, hora] == 0:\n",
    "                    penalizacion_total += penalizacion\n",
    "                # Penalizar si el profesor no puede desempeñar el rol asignado\n",
    "                rol = individuo[profesor, hora]\n",
    "                if roles[profesor, rol - 1] == 0:\n",
    "                    penalizacion_total += penalizacion\n",
    "\n",
    "    # Verificar si hay más de 3 profesores o más de un cargo en un tribunal\n",
    "    for hora in range(individuo.shape[1]):\n",
    "        if np.sum(individuo[:, hora] > 0) > 3:\n",
    "            penalizacion_total += penalizacion\n",
    "        for rol in range(1, 4):\n",
    "            if np.sum(individuo[:, hora] == rol) > 1:\n",
    "                penalizacion_total += penalizacion\n",
    "\n",
    "    # Verificar que se formen exactamente numero_tribunales tribunales\n",
    "    tribunales_formados = 0\n",
    "    for hora in range(individuo.shape[1]):\n",
    "        presidente = np.sum(individuo[:, hora] == 1)\n",
    "        secretario = np.sum(individuo[:, hora] == 2)\n",
    "        vocal = np.sum(individuo[:, hora] == 3)\n",
    "        if presidente == 1 and secretario == 1 and vocal == 1:\n",
    "            tribunales_formados += 1\n",
    "    if tribunales_formados != numero_tribunales:\n",
    "        penalizacion_total += penalizacion\n",
    "\n",
    "    # Calcular la varianza en el número de tribunales que hace cada profesor\n",
    "    tribunales_por_profesor = np.sum(individuo > 0, axis=1)\n",
    "    varianza = np.var(tribunales_por_profesor)\n",
    "\n",
    "    # La puntuación será la inversa de la varianza, ajustada por penalizaciones\n",
    "    score = -varianza - penalizacion_total\n",
    "\n",
    "    return score"
   ]
  },
  {
   "cell_type": "markdown",
   "metadata": {
    "id": "L6FwmzPGvgZ5"
   },
   "source": [
    "Ejemplos de fitness para la población inicial"
   ]
  },
  {
   "cell_type": "code",
   "execution_count": null,
   "metadata": {
    "colab": {
     "base_uri": "https://localhost:8080/"
    },
    "id": "A2ywVw-WBvYg",
    "outputId": "bcfd6d20-da4d-41b4-c23b-b87d31622212"
   },
   "outputs": [
    {
     "data": {
      "text/plain": [
       "[-1.45, -3.45, -4.45, -3.25, -3.85, -5.45, -1.85, -4.45, -6.65, -2.65]"
      ]
     },
     "execution_count": 8,
     "metadata": {},
     "output_type": "execute_result"
    }
   ],
   "source": [
    "[fitness(poblacion_inicial[i], disponibilidad, roles, numero_tribunales) for i in range(len(poblacion_inicial))]"
   ]
  },
  {
   "cell_type": "markdown",
   "metadata": {
    "id": "78gI9DmVCejM"
   },
   "source": [
    "El siguiente paso es el método de selección. Para este problema he elegido el método de la ruleta, en el que a cada individuo se le asigna una probabilidad de ser elegido en función de su valor de fitness. A mejor puntuación, más oportunidades de ser elegido."
   ]
  },
  {
   "cell_type": "code",
   "execution_count": null,
   "metadata": {
    "id": "6K5M7VyaCduR"
   },
   "outputs": [],
   "source": [
    "def seleccion_ruleta(poblacion, puntuacion_fitness):\n",
    "    # Encuentra el valor más negativo y resta ese valor de todas las puntuaciones\n",
    "    # para hacerlas positivas. Suma 1 para evitar puntuaciones de fitness de cero.\n",
    "    min_fitness = min(puntuacion_fitness)\n",
    "    puntuaciones_ajustadas = [1 + (score - min_fitness) for score in puntuacion_fitness]\n",
    "\n",
    "    # Calcular la suma total de las puntuaciones de fitness ajustadas\n",
    "    fitness_total = sum(puntuaciones_ajustadas)\n",
    "\n",
    "    # Normalizar las puntuaciones de fitness ajustadas para que sumen 1\n",
    "    puntuaciones_normalizadas = [score / fitness_total for score in puntuaciones_ajustadas]\n",
    "\n",
    "    # Calcular la suma acumulada de puntuaciones\n",
    "    puntuaciones_acumuladas = np.cumsum(puntuaciones_normalizadas)\n",
    "\n",
    "    # Seleccionar individuos\n",
    "    individuos_seleccionados = []\n",
    "    for _ in range(len(poblacion)):\n",
    "        r = np.random.rand()\n",
    "        # Utilizar búsqueda binaria para encontrar el índice del individuo a seleccionar\n",
    "        index = np.searchsorted(puntuaciones_acumuladas, r)\n",
    "        individuos_seleccionados.append(poblacion[index])\n",
    "\n",
    "    return individuos_seleccionados"
   ]
  },
  {
   "cell_type": "markdown",
   "metadata": {
    "id": "kztCkpEhDZDT"
   },
   "source": [
    "El siguiente paso es la función de cruce. En este paso, dos individuos (a los que llamaremos padres), combinarán su genotipo para dar dos individuos nuevos (que llamaremos hijos). <br>\n",
    "El tipo de cruce que se ha implementado es una recombinación de bloques de tiempo, es decir, recombinamos las columnas de los padres (que representan un tribunal completo) teniendo en cuenta las restricciones de disponibilidad y roles."
   ]
  },
  {
   "cell_type": "code",
   "execution_count": null,
   "metadata": {
    "id": "L7O8ThOnDY05"
   },
   "outputs": [],
   "source": [
    "def cruce(padre_1, padre_2, disponibilidad, roles):\n",
    "    num_profesores, num_horas = disponibilidad.shape\n",
    "    hijo_1 = np.copy(padre_1)\n",
    "    hijo_2 = np.copy(padre_2)\n",
    "\n",
    "    # Identificar bloques de tiempo donde ambos padres tienen asignaciones válidas y completas\n",
    "    bloques_tiempo_validos = []\n",
    "    for hora in range(num_horas):\n",
    "        if (np.sum(padre_1[:, hora] > 0) == 3 and np.sum(padre_2[:, hora] > 0) == 3 ):\n",
    "            bloques_tiempo_validos.append(hora)\n",
    "\n",
    "    # Realizar el cruce solo en bloques de tiempo válidos\n",
    "    for hora in bloques_tiempo_validos:\n",
    "        hijo_1[:, hora], hijo_2[:, hora] = hijo_2[:, hora], hijo_1[:, hora]\n",
    "\n",
    "    return hijo_1, hijo_2"
   ]
  },
  {
   "cell_type": "markdown",
   "metadata": {
    "id": "6a5IXxa5EZ_e"
   },
   "source": [
    "La última función auxiliar que necesitamos es la mutación. En este caso, cuando un individuo muta, altera uno de sus genes de forma aleatoria para ejercer otro rol de tribunal (manteniendo las restricciones de roles y disponibilidad)"
   ]
  },
  {
   "cell_type": "code",
   "execution_count": null,
   "metadata": {
    "id": "HSsqoU0nEnJi"
   },
   "outputs": [],
   "source": [
    "def mutacion(individuo, disponibilidad, roles):\n",
    "    num_profesores, num_horas = disponibilidad.shape\n",
    "\n",
    "    for hora in range(num_horas):\n",
    "        # Seleccionar un rol para mutar\n",
    "        rol_a_mutar = np.random.choice([1, 2, 3])\n",
    "        # Encontrar todos los profesores que actualmente tienen ese rol en esta hora\n",
    "        profesores_con_rol = np.where(individuo[:, hora] == rol_a_mutar)[0]\n",
    "\n",
    "        # Si hay algún profesor con ese rol, intentar reasignarlo\n",
    "        if profesores_con_rol.size > 0:\n",
    "            # Seleccionar un profesor al azar que tenga el rol\n",
    "            profesor_con_rol = np.random.choice(profesores_con_rol)\n",
    "            # Encontrar profesores que pueden tomar el rol y no tienen un rol en esta hora\n",
    "            profesores_disponibles = np.where((disponibilidad[:, hora] == 1) & (roles[:, rol_a_mutar - 1] == 1) & (individuo[:, hora] == 0))[0]\n",
    "\n",
    "            if profesores_disponibles.size > 0:\n",
    "                # Seleccionar un nuevo profesor para el rol\n",
    "                nuevo_profesor = np.random.choice(profesores_disponibles)\n",
    "                # Reasignar el rol\n",
    "                individuo[profesor_con_rol, hora] = 0\n",
    "                individuo[nuevo_profesor, hora] = rol_a_mutar\n",
    "\n",
    "    return individuo"
   ]
  },
  {
   "cell_type": "markdown",
   "metadata": {
    "id": "88zW282LEyIE"
   },
   "source": [
    "El último paso es poner todo en conjunción y ejecutar el algoritmo. Durante la ejecución del algoritmo, se va a crear una población inicial y se va a iterar sobre ella para ir mejorándola con el paso del tiempo. Al final, tendremos la población con los mejores individuos <br>\n",
    "Un detalle importante es que vamos a implementar también elitismo, que consiste en que los mejores individuos de una población van a pasar a formar parte de la siguiente iteración directamente, sin realizar selección, cruce y mutación. De esta forma, nos aseguramos de que los mejores individuos sobrevivan a la iteración."
   ]
  },
  {
   "cell_type": "code",
   "execution_count": null,
   "metadata": {
    "colab": {
     "base_uri": "https://localhost:8080/"
    },
    "id": "jXy98AjMFYBs",
    "outputId": "fe0a1e77-e721-4af6-c2f1-1cbb13304f97"
   },
   "outputs": [
    {
     "name": "stdout",
     "output_type": "stream",
     "text": [
      "Generación 0: Mejor puntuación de fitness = -1.05\n",
      "Generación 1: Mejor puntuación de fitness = -1.05\n",
      "Generación 2: Mejor puntuación de fitness = -0.85\n",
      "Generación 3: Mejor puntuación de fitness = -0.85\n",
      "Generación 4: Mejor puntuación de fitness = -0.85\n",
      "Generación 5: Mejor puntuación de fitness = -0.85\n",
      "Generación 6: Mejor puntuación de fitness = -0.85\n",
      "Generación 7: Mejor puntuación de fitness = -0.85\n",
      "Generación 8: Mejor puntuación de fitness = -0.85\n",
      "Generación 9: Mejor puntuación de fitness = -0.85\n",
      "Generación 10: Mejor puntuación de fitness = -0.85\n",
      "Generación 11: Mejor puntuación de fitness = -0.85\n",
      "Generación 12: Mejor puntuación de fitness = -0.85\n",
      "Generación 13: Mejor puntuación de fitness = -0.85\n",
      "Generación 14: Mejor puntuación de fitness = -0.85\n",
      "Generación 15: Mejor puntuación de fitness = -0.85\n",
      "Generación 16: Mejor puntuación de fitness = -0.85\n",
      "Generación 17: Mejor puntuación de fitness = -0.85\n",
      "Generación 18: Mejor puntuación de fitness = -0.85\n",
      "Generación 19: Mejor puntuación de fitness = -0.85\n",
      "Generación 20: Mejor puntuación de fitness = -0.85\n",
      "Generación 21: Mejor puntuación de fitness = -0.85\n",
      "Generación 22: Mejor puntuación de fitness = -0.85\n",
      "Generación 23: Mejor puntuación de fitness = -0.85\n",
      "Generación 24: Mejor puntuación de fitness = -0.85\n",
      "Generación 25: Mejor puntuación de fitness = -0.85\n",
      "Generación 26: Mejor puntuación de fitness = -0.85\n",
      "Generación 27: Mejor puntuación de fitness = -0.85\n",
      "Generación 28: Mejor puntuación de fitness = -0.85\n",
      "Generación 29: Mejor puntuación de fitness = -0.85\n",
      "Generación 30: Mejor puntuación de fitness = -0.85\n",
      "Generación 31: Mejor puntuación de fitness = -0.85\n",
      "Generación 32: Mejor puntuación de fitness = -0.85\n",
      "Generación 33: Mejor puntuación de fitness = -0.85\n",
      "Generación 34: Mejor puntuación de fitness = -0.85\n",
      "Generación 35: Mejor puntuación de fitness = -0.85\n",
      "Generación 36: Mejor puntuación de fitness = -0.85\n",
      "Generación 37: Mejor puntuación de fitness = -0.85\n",
      "Generación 38: Mejor puntuación de fitness = -0.85\n",
      "Generación 39: Mejor puntuación de fitness = -0.85\n",
      "Generación 40: Mejor puntuación de fitness = -0.85\n",
      "Generación 41: Mejor puntuación de fitness = -0.85\n",
      "Generación 42: Mejor puntuación de fitness = -0.85\n",
      "Generación 43: Mejor puntuación de fitness = -0.85\n",
      "Generación 44: Mejor puntuación de fitness = -0.85\n",
      "Generación 45: Mejor puntuación de fitness = -0.85\n",
      "Generación 46: Mejor puntuación de fitness = -0.85\n",
      "Generación 47: Mejor puntuación de fitness = -0.85\n",
      "Generación 48: Mejor puntuación de fitness = -0.85\n",
      "Generación 49: Mejor puntuación de fitness = -0.85\n",
      "Mejor individuo encontrado:\n",
      "[[0 0 3 0 0 0 2 2 0 0 0 0 0 3 0 0 0 0 0 0 0 0 0 0 0 0 1 0 1 0 0 0 0 0 0]\n",
      " [0 0 1 0 0 0 0 0 0 0 0 0 0 0 0 0 0 2 0 0 0 3 0 0 0 0 0 0 0 0 0 0 1 0 0]\n",
      " [0 0 0 0 0 0 0 0 0 0 0 0 0 1 0 0 3 0 0 0 0 1 0 0 1 0 0 0 0 0 0 0 0 0 0]\n",
      " [0 0 0 0 2 0 0 0 0 0 0 0 0 0 0 0 0 3 0 0 0 0 0 0 2 0 0 0 0 0 0 3 0 0 0]\n",
      " [0 0 0 0 0 0 1 1 0 0 0 0 0 0 0 0 1 1 0 1 0 0 0 0 0 0 0 0 2 0 0 0 0 0 0]\n",
      " [0 0 0 0 1 0 0 0 1 0 0 0 0 0 0 0 0 0 0 2 0 0 0 0 0 0 0 0 3 0 0 0 2 0 0]\n",
      " [0 0 2 0 0 0 0 0 0 0 0 0 0 2 0 0 2 0 0 0 0 0 0 0 0 0 0 0 0 0 0 0 0 0 0]\n",
      " [0 0 0 0 0 0 0 0 2 0 0 0 0 0 0 0 0 0 0 0 0 0 0 0 3 0 3 0 0 0 0 2 0 0 0]\n",
      " [0 0 0 0 0 0 0 0 3 0 0 0 0 0 0 0 0 0 0 3 0 2 0 0 0 0 0 0 0 0 0 1 3 0 0]\n",
      " [0 0 0 0 3 0 3 3 0 0 0 0 0 0 0 0 0 0 0 0 0 0 0 0 0 0 2 0 0 0 0 0 0 0 0]]\n",
      "Puntuación de fitness: -0.85\n"
     ]
    }
   ],
   "source": [
    "# Parámetros del algoritmo genético\n",
    "tamanio_poblacion = 50\n",
    "numero_generaciones = 50\n",
    "ratio_mutacion = 0.01\n",
    "ratio_cruce = 0.6\n",
    "num_elites = 4\n",
    "num_tribunales = 15\n",
    "\n",
    "# Inicializar la población\n",
    "poblacion = generar_poblacion(tamanio_poblacion, disponibilidad, roles, num_tribunales)\n",
    "\n",
    "# Evaluar la población inicial\n",
    "fitness_scores = [fitness(individuo, disponibilidad, roles, num_tribunales) for individuo in poblacion]\n",
    "\n",
    "# Bucle principal del algoritmo genético\n",
    "for generacion in range(numero_generaciones):\n",
    "    # Seleccionar individuos para la reproducción\n",
    "    selected_individuals = seleccion_ruleta(poblacion, fitness_scores)\n",
    "\n",
    "    # Elitismo, los mejores individuos los guardamos para la siguiente iteración\n",
    "    indices_elites = np.argsort(fitness_scores)[-num_elites:]\n",
    "    elites = [poblacion[i] for i in indices_elites]\n",
    "    next_generation = elites.copy()  # Comenzar con los individuos élite\n",
    "\n",
    "    # Iterar creando el resto de la población\n",
    "    while len(next_generation) < tamanio_poblacion:\n",
    "        # Seleccionar dos padres de manera aleatoria sin reemplazo\n",
    "        parents = random.sample(selected_individuals, 2)\n",
    "        parent1, parent2 = parents[0], parents[1]\n",
    "\n",
    "        # Aplicar cruce con una cierta probabilidad\n",
    "        if np.random.rand() < ratio_cruce:  # Solo cruzamos para cierta probabilidad\n",
    "          child_1, child_2 = cruce(parent1, parent2, disponibilidad, roles)\n",
    "        else:\n",
    "          child_1, child_2 = parent1.copy(), parent2.copy()\n",
    "\n",
    "        # Aplicar mutación con una cierta probabilidad\n",
    "        if np.random.rand() < ratio_mutacion:  # Solo mutamos para cierta probabilidad\n",
    "          child_1 = mutacion(child_1, disponibilidad, roles)\n",
    "          child_2 = mutacion(child_2, disponibilidad, roles)\n",
    "\n",
    "        # Aniadir los hijos a la próxima generación\n",
    "        next_generation.append(child_1)\n",
    "        if len(next_generation) < tamanio_poblacion:\n",
    "            next_generation.append(child_2)\n",
    "\n",
    "    # Reemplazar la población actual con la nueva generación\n",
    "    poblacion = next_generation\n",
    "\n",
    "    # Evaluar la nueva población\n",
    "    fitness_scores = [fitness(individuo, disponibilidad, roles, num_tribunales) for individuo in poblacion]\n",
    "\n",
    "    # Opcional: Imprimir información sobre la generación actual\n",
    "    print(f\"Generación {generacion}: Mejor puntuación de fitness = {max(fitness_scores)}\")\n",
    "\n",
    "# Encontrar el mejor individuo de la última generación\n",
    "mejor_puntuacion = max(fitness_scores)\n",
    "mejor_individuo = poblacion[fitness_scores.index(mejor_puntuacion)]\n",
    "\n",
    "# Imprimir el mejor individuo y su puntuación de fitness\n",
    "print(\"Mejor individuo encontrado:\")\n",
    "print(mejor_individuo)\n",
    "print(f\"Puntuación de fitness: {mejor_puntuacion}\")"
   ]
  },
  {
   "cell_type": "markdown",
   "metadata": {
    "id": "_k6VHGxTGuSg"
   },
   "source": [
    "El algrotimo itera y mejora con las fases! <br>\n",
    "Además, hemos obtenido el mejor individuo de todos los generados. Podemos crear una función auxiliar para comprobar si la solución es buena."
   ]
  },
  {
   "cell_type": "code",
   "execution_count": null,
   "metadata": {
    "id": "NGy3sYVfG5Kp"
   },
   "outputs": [],
   "source": [
    "def es_solucion_valida(individuo, disponibilidad, roles, numero_tribunales):\n",
    "    num_profesores, num_horas = individuo.shape\n",
    "\n",
    "    # Comprobar la disponibilidad y los roles permitidos para cada profesor\n",
    "    for profesor in range(num_profesores):\n",
    "        for hora in range(num_horas):\n",
    "            rol = individuo[profesor, hora]\n",
    "            if rol > 0:\n",
    "                # Comprobar si el profesor está disponible en esa hora\n",
    "                if disponibilidad[profesor, hora] == 0:\n",
    "                    return False\n",
    "                # Comprobar si el profesor puede desempeñar el rol asignado\n",
    "                if roles[profesor, rol - 1] == 0:\n",
    "                    return False\n",
    "\n",
    "    # Comprobar que se formen exactamente num_tfms tribunales\n",
    "    tribunales_formados = 0\n",
    "    for hora in range(num_horas):\n",
    "        # Comprobar que haya exactamente un presidente, un secretario y un vocal en esta hora\n",
    "        presidente = np.sum(individuo[:, hora] == 1)\n",
    "        secretario = np.sum(individuo[:, hora] == 2)\n",
    "        vocal = np.sum(individuo[:, hora] == 3)\n",
    "        if presidente == 1 and secretario == 1 and vocal == 1:\n",
    "            tribunales_formados += 1\n",
    "\n",
    "    if tribunales_formados != numero_tribunales:\n",
    "        return False\n",
    "\n",
    "    # Si todas las comprobaciones son correctas, la solución es válida\n",
    "    return True"
   ]
  },
  {
   "cell_type": "code",
   "execution_count": null,
   "metadata": {
    "colab": {
     "base_uri": "https://localhost:8080/"
    },
    "id": "xKnsMQHgHCcO",
    "outputId": "cc05b7cf-0fca-4a47-b5a9-089775fc3f2a"
   },
   "outputs": [
    {
     "data": {
      "text/plain": [
       "True"
      ]
     },
     "execution_count": 14,
     "metadata": {},
     "output_type": "execute_result"
    }
   ],
   "source": [
    "es_solucion_valida(mejor_individuo, disponibilidad, roles, num_tribunales)"
   ]
  },
  {
   "cell_type": "markdown",
   "metadata": {
    "id": "PuXgsCWcHKVf"
   },
   "source": [
    "La solución es válida! Y además, cumple con los requisitos:\n",
    "\n",
    "\n",
    "*   Hay 15 tribunales formados.\n",
    "*   Cada tribunal tiene 3 profesores, con rol único.\n",
    "*   Los roles de los profesores son válidos.\n",
    "*   Las disponibilidades de los profesores son válidas.\n",
    "*   La distribución de profesores está equilibrada (todos los profesores tienen entre 4 y 6 tribunales).\n",
    "\n",
    "Por tanto, la solución alcanzada es válida.\n",
    "\n"
   ]
  },
  {
   "cell_type": "markdown",
   "metadata": {
    "id": "HZz52wOppp-U"
   },
   "source": [
    "#Análisis\n",
    "- ¿Que complejidad tiene el problema?. Orden de complejidad y Contabilizar el espacio de soluciones"
   ]
  },
  {
   "cell_type": "markdown",
   "metadata": {
    "id": "98Lf8BI_JMMI"
   },
   "source": [
    "Para calcular la complejidad computación del algoritmo entero vamos a ir parte por parte:\n",
    "\n",
    "\n",
    "*   `generar_poblacion()`: La complejidad es O(tamaño * num_tribunales * num_profesores * num_horas) ya que se itera sobre todas estas variables. El resto de operaciones son elementales. Puesto que los tribunales, los profesores y las horas son fijas para este problema, la complejidad la podemos medir en cuanto al tamaño de la población que queremos.\n",
    "\n",
    "*   `fitness()`: La complejidad de esta función es O(num_profesores * num_horas) que son las variables que se iteran. El resto de operaciones son asignaciones y comaparaciones que consideramos elementales (esta complejidad es para evaluar un individuo).\n",
    "\n",
    "*   `seleccion_ruleta()`: Esta función tiene complejidad O(tamaño * log(tamaño)), ya que en el último bucle for se realizan operaciones de búsqueda binaria.\n",
    "\n",
    "*   `cruce()`: La complejidad de esta función es O(num_horas + bloques_tiempo), ya que en cada bulce se realizan únicamente operaciones elementales.\n",
    "\n",
    "*   `mutacion()`: La complejidad es O(num_horas * num_profesores), el resto de operaciones son elementales.\n",
    "\n",
    "*   `algoritmo genetico`: para dar la complejidad general del algoritmo vamos a tener en cuenta ls datos que sabemos que son fijos para este problema (15 tribunales, 10 profesores, 3 roles y 35 horas).\n",
    "\n",
    "\n",
    "<br>La complejidad total sería: O(num_generacions * tamaño_poblacion * (num_horas * num_tribunales * num_profesores + log(tamaño_poblacion)))\n",
    "<br> Esto sería aproximadamente: O(num_generacions * tamaño_poblacion * (35 * 15 * 10 + log(tamaño_poblacion)))\n",
    "<br> Por lo que el algoritmo dependería del tamaño de la población y del número de generaciones que se quiera iterar.\n",
    "\n"
   ]
  }
 ],
 "metadata": {
  "colab": {
   "provenance": []
  },
  "kernelspec": {
   "display_name": "Python 3 (ipykernel)",
   "language": "python",
   "name": "python3"
  },
  "language_info": {
   "codemirror_mode": {
    "name": "ipython",
    "version": 3
   },
   "file_extension": ".py",
   "mimetype": "text/x-python",
   "name": "python",
   "nbconvert_exporter": "python",
   "pygments_lexer": "ipython3",
   "version": "3.10.12"
  }
 },
 "nbformat": 4,
 "nbformat_minor": 4
}
